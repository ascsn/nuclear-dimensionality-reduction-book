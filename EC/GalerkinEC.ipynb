{
 "cells": [
  {
   "cell_type": "code",
   "execution_count": 1,
   "source": [
    "import numpy as np\n",
    "import os\n",
    "import subprocess\n",
    "from contextlib import contextmanager"
   ],
   "outputs": [],
   "metadata": {}
  },
  {
   "cell_type": "markdown",
   "source": [
    "First, we'll read in the files created by the Fortran HF code. Things are a little messy thanks to the way I stored things in the past, but they are standard numpy arrays after this cell. Take note of the ordering and suggest a more agreeable choice if you've got an opinion."
   ],
   "metadata": {}
  },
  {
   "cell_type": "code",
   "execution_count": 57,
   "source": [
    "def read_wfs(restartfile):\n",
    "    #restartfile = '../HF/wf_numpy.bin'\n",
    "\n",
    "    intchunk = np.dtype(np.int32).itemsize\n",
    "    realchunk = np.dtype(np.float64).itemsize\n",
    "    h = np.fromfile(restartfile, dtype=np.float64, count=1, offset=0)[0]\n",
    "    nbox = np.fromfile(restartfile, dtype=np.int32, count=1, offset=(realchunk+0*intchunk))[0]\n",
    "    lmax = np.fromfile(restartfile, dtype=np.int32, count=1, offset=(realchunk+1*intchunk))[0]\n",
    "    nmax = np.fromfile(restartfile, dtype=np.int32, count=1, offset=(realchunk+2*intchunk))[0]\n",
    "#     print(\"hbox = \", h)\n",
    "#     print(\"nbox = \",nbox)\n",
    "#     print(\"lmax = \",lmax)\n",
    "#     print(\"nmax = \",nmax)\n",
    "\n",
    "    #sortstates, sortenergies, wfr,\n",
    "    sortstates = np.fromfile(restartfile, dtype=np.int32, count=nmax*3*2, offset=(realchunk+3*intchunk)).reshape(2,3,nmax)\n",
    "    sortenergies = np.fromfile(restartfile, dtype=np.float64, count=nmax*2, offset=(realchunk+3*intchunk+nmax*3*2*intchunk)).reshape(2,nmax)\n",
    "    wfs = np.fromfile(restartfile, dtype=np.float64, count=2*2*(lmax+1)*lmax*(nbox+1), offset=(realchunk+3*intchunk+nmax*3*2*intchunk+sortenergies.nbytes)).reshape(2,2,(lmax+1),lmax,(nbox+1))\n",
    "\n",
    "    return h,nbox,lmax,nmax,sortstates,sortenergies,wfs\n",
    "\n",
    "def print_wfs(restartfile,h,nbox,lmax,nmax,sortstates,sortenergies,wfs):\n",
    "    with open(restartfile, 'wb') as file:\n",
    "        file.write(h)\n",
    "        file.write(nbox)\n",
    "        file.write(lmax)\n",
    "        file.write(nmax)\n",
    "        file.write(sortstates.reshape((nmax*3*2,)))\n",
    "        file.write(sortenergies.reshape((nmax*2,)))\n",
    "        file.write(wfs.reshape((2*2*(lmax+1)*lmax*(nbox+1),)))\n",
    "\n",
    "    return\n",
    "\n",
    "def read_hpsi(restartfile):\n",
    "\n",
    "    intchunk = np.dtype(np.int32).itemsize\n",
    "\n",
    "    nbox = np.fromfile(restartfile, dtype=np.int32, count=1, offset=(0*intchunk))[0]\n",
    "    lmax = np.fromfile(restartfile, dtype=np.int32, count=1, offset=(1*intchunk))[0]\n",
    "    nmax = np.fromfile(restartfile, dtype=np.int32, count=1, offset=(2*intchunk))[0]\n",
    "\n",
    "    sortenergies = np.fromfile(restartfile, dtype=np.float64, count=nmax*2, offset=(3*intchunk)).reshape(2,nmax)\n",
    "    hpsi = np.fromfile(restartfile, dtype=np.float64, count=2*2*(lmax+1)*lmax*(nbox+1), offset=(3*intchunk+sortenergies.nbytes)).reshape(2,2,(lmax+1),lmax,(nbox+1))\n",
    "\n",
    "    return sortenergies,hpsi\n",
    "\n",
    "def get_hpsi(params,h,nbox,lmax,nmax,sortstates,sortenergies,wf):\n",
    "    restartfile = '../HF/wf_numpy.bin'\n",
    "    print_wfs(restartfile,h,nbox,lmax,nmax,sortstates,sortenergies,wf)\n",
    "    make_input(params[i],1)\n",
    "    with cwd('../HF/'):\n",
    "        errors.append(run_HF(\"None\",1))\n",
    "    restartfile = '../HF/hpsi.bin'\n",
    "    sortenergies,hpsi = read_hpsi(restartfile)\n",
    "\n",
    "    return hpsi"
   ],
   "outputs": [],
   "metadata": {}
  },
  {
   "cell_type": "code",
   "execution_count": 44,
   "source": [
    "@contextmanager\n",
    "def cwd(path):\n",
    "    oldpwd=os.getcwd()\n",
    "    os.chdir(path)\n",
    "    try:\n",
    "        yield\n",
    "    finally:\n",
    "        os.chdir(oldpwd)\n",
    "\n",
    "def spin(spin):\n",
    "    if(spin==1): return -0.5\n",
    "    return 0.5\n",
    "\n",
    "def make_input(params,restart):\n",
    "    in_template = \"../HF/in.template\"\n",
    "    f1 = open(in_template, 'r')\n",
    "    \n",
    "    int_string = \"&interaction t0= \"+str(params[0])+\",x0=0.77600,t1=484.2300,x1=-0.31700,t2=-556.6900,x2=-1.0,t3=13757.0,x3=1.2630,w0=125.0,sig=6.0,icoul=1,icm=1,j2terms=.true. / \\n\"\n",
    "    if(restart):\n",
    "        io_string = \"&io printwf=F,printdens=F,restartwf=T,printhpsi=T /\"\n",
    "    else:\n",
    "        io_string = \"&io printwf=T,printdens=F,restartwf=F,printhpsi=F /\"\n",
    "    in_out = \"../HF/in\"\n",
    "    f2 = open(in_out, 'w')\n",
    "    f1.seek(0)\n",
    "    f2.write(f1.read())\n",
    "    f2.write(int_string)\n",
    "    f2.write(io_string)\n",
    "    f2.write(\"\\n\")\n",
    "\n",
    "    f1.close()\n",
    "    f2.close()\n",
    "\n",
    "    return\n",
    "\n",
    "def run_HF(tag,restart):\n",
    "    noNaN = 1\n",
    "    if(restart == 0):\n",
    "        os.system(\"cp in results/in.\"+tag)\n",
    "        #print(os.system(\"../HF/./main\"))\n",
    "        output = subprocess.run([\"./main\"], capture_output=True)\n",
    "        #print(output)\n",
    "        #print(subprocess.run(\"../HF/./main\",shell=True))\n",
    "        os.system(\"mv out results/out.\"+tag)\n",
    "        os.system(\"mv wf_numpy.bin results/wf_numpy.bin.\"+tag)\n",
    "        noNaN = os.system(\"grep -q NaN results/out.\"+tag)\n",
    "    else:\n",
    "        output = subprocess.run([\"./main\"], capture_output=True)\n",
    "        #os.system(\"mv out results/out_rst.\"+tag)\n",
    "        #os.system(\"mv hpsi.bin results/hpsi.bin.\"+tag)\n",
    "        #print(output)\n",
    "        #noNaN = os.system(\"grep -q NaN results/out_rst.\"+tag)\n",
    "    if (noNaN == 0):\n",
    "        print(\"NaNs in run {tag}!\".format(tag=tag))\n",
    "        return 1\n",
    "\n",
    "    return 0\n"
   ],
   "outputs": [],
   "metadata": {}
  },
  {
   "cell_type": "markdown",
   "source": [
    "The following cell defines a list of parameters (only one right now) and then loops over those parameters and runs the HF code to generate outputs and WFs.\n",
    "\n",
    "The inputs, outputs, and WFs are copied to a results folder (this can be changed) with some tag appended to the file name. In the future we may want to change how this tag is generated."
   ],
   "metadata": {}
  },
  {
   "cell_type": "code",
   "execution_count": 10,
   "source": [
    "params = [[-2483.45],[-2485.45],[-2453.45],[-2583.45],[-1983.45],]\n",
    "\n",
    "errors = []\n",
    "\n",
    "for i in range(len(params)):\n",
    "    make_input(params[i],0)\n",
    "    with cwd('../HF/'):\n",
    "        errors.append(run_HF(str(i),0))\n",
    "\n",
    "\n"
   ],
   "outputs": [
    {
     "output_type": "stream",
     "name": "stdout",
     "text": [
      "NaNs in run 4!\n"
     ]
    }
   ],
   "metadata": {}
  },
  {
   "cell_type": "markdown",
   "source": [
    "Now we read the files back in and print the energies of the single particle states to see whats up."
   ],
   "metadata": {}
  },
  {
   "cell_type": "code",
   "execution_count": 27,
   "source": [
    "for i in range(len(params)):\n",
    "    if(errors[i] == 1): continue\n",
    "    restartfile = '../HF/results/wf_numpy.bin.'+str(i)\n",
    "    h,nbox,lmax,nmax,sortstates,sortenergies,wf = read_wfs(restartfile)\n",
    "    print(sortenergies[sortenergies < 0.0])\n",
    "\n",
    "\n",
    "#h,nbox,lmax,nmax,sortstates,sortenergies,wf = read_wfs()\n",
    "# npart = 0\n",
    "# for i in range(nmax):\n",
    "#     if(sortstates[0,0,i]>0):\n",
    "#         nfill = int(2*(sortstates[0,1,i]+spin(sortstates[0,2,i])) + 1)\n",
    "#         if (sortstates[0,1,i] == 0): nfill = 2\n",
    "#         npart += nfill\n",
    "#         print(npart)"
   ],
   "outputs": [
    {
     "output_type": "stream",
     "name": "stdout",
     "text": [
      "[-49.68895404 -35.89084008 -33.84649678 -22.12395077 -17.72178801\n",
      " -17.42934489  -9.23136256 -45.87413675 -34.25177677 -30.4309684\n",
      " -22.40003827 -16.74195047 -15.31277247]\n",
      "[-49.95249716 -36.09015803 -34.02871369 -22.26319554 -17.83170985\n",
      " -17.53014294  -9.3178674  -46.1503477  -34.47515512 -30.62320195\n",
      " -22.57424528 -16.8790529  -15.42882466]\n",
      "[-45.84523083 -32.98656995 -31.18665098 -20.10136506 -16.12312307\n",
      " -15.95788421  -7.98626695 -41.85989697 -31.01135766 -27.63739743\n",
      " -19.8828084  -14.75988052 -13.62980033]\n",
      "[-64.04105666 -46.77671843 -43.74722209 -29.79788411 -23.74954255\n",
      " -22.89918174 -14.12217506 -61.07572786 -46.61419015 -41.01603689\n",
      " -32.15028024 -24.39412814 -21.73595017]\n"
     ]
    }
   ],
   "metadata": {}
  },
  {
   "cell_type": "code",
   "execution_count": 55,
   "source": [
    "for i in range(len(params)-4):\n",
    "    if(errors[i] == 1): continue\n",
    "    #restartfile = '../HF/wf_numpy.bin.'+str(i)\n",
    "    restartfile = '../HF/results/wf_numpy.bin.'+str(i)\n",
    "    h,nbox,lmax,nmax,sortstates,sortenergies,wf = read_wfs(restartfile)\n",
    "    restartfile = '../HF/wf_numpy.bin'\n",
    "    print_wfs(restartfile,h,nbox,lmax,nmax,sortstates,sortenergies,wf)\n",
    "    make_input(params[i],1)\n",
    "    with cwd('../HF/'):\n",
    "        errors.append(run_HF(str(i),1))\n",
    "    restartfile = '../HF/results/hpsi.bin.'+str(i)\n",
    "    sortenergies,hpsi = read_hpsi(restartfile)\n",
    "    part = 0\n",
    "    i_s = sortstates[0,0,part]\n",
    "    i_l = sortstates[0,1,part]\n",
    "    i_n = sortstates[0,2,part]-1\n",
    "    print(i_n,i_l,i_s)\n",
    "    print(np.sum(-h*wf[0,i_s,i_l,i_n,:]*hpsi[0,i_s,i_l,i_n,:]))\n",
    "    #ir,sortstates(i,1,iq),sortstates(i,2,iq),sortstates(i,3,iq),iq\n"
   ],
   "outputs": [
    {
     "output_type": "stream",
     "name": "stdout",
     "text": [
      "0 0 1\n",
      "-49.71129278586508\n"
     ]
    }
   ],
   "metadata": {}
  },
  {
   "cell_type": "markdown",
   "source": [
    "Now we can calculate the hpsi (or, G) objects from Wfs. Here I am reading in training Wfs just as a test."
   ],
   "metadata": {}
  },
  {
   "cell_type": "code",
   "execution_count": 94,
   "source": [
    "for i in range(len(params)-4):\n",
    "    if(errors[i] == 1): continue\n",
    "    # The following is to simply read in the trial WFs during testing\n",
    "    restartfile = '../HF/results/wf_numpy.bin.'+str(i)\n",
    "    h,nbox,lmax,nmax,sortstates,sortenergies,wf = read_wfs(restartfile)\n",
    "\n",
    "    # get hpsi\n",
    "    hpsi = get_hpsi(params,h,nbox,lmax,nmax,sortstates,sortenergies,wf)\n",
    "\n",
    "    #Calculate energies as a test for levels\n",
    "    occupied = 0\n",
    "    for i in range(nmax):\n",
    "        isospin = 0\n",
    "        level = i\n",
    "        i_s = sortstates[isospin,2,level]-1\n",
    "        i_l = sortstates[isospin,1,level]\n",
    "        i_n = sortstates[isospin,0,level]-1\n",
    "        if(i_s < 0): continue\n",
    "        occupied += 1\n",
    "        print(\"Level: {}, N: {}, L: {}, S: {}\".format(level+1,i_n+1,i_l,i_s))\n",
    "        print(\"Energy: {}\".format(np.sum(-h*wf[isospin,i_s,i_l,i_n,:]*hpsi[isospin,i_s,i_l,i_n,:])))\n",
    "\n",
    "print(\"There are {} occupied levels!\".format(occupied))"
   ],
   "outputs": [
    {
     "output_type": "stream",
     "name": "stdout",
     "text": [
      "Level: 1, N: 1, L: 0, S: 0\n",
      "Energy: -49.71129278586775\n",
      "Level: 2, N: 1, L: 1, S: 1\n",
      "Energy: -35.89095593307716\n",
      "Level: 3, N: 1, L: 1, S: 0\n",
      "Energy: -33.846486193249426\n",
      "Level: 4, N: 1, L: 2, S: 1\n",
      "Energy: -22.12394236411225\n",
      "Level: 5, N: 2, L: 0, S: 0\n",
      "Energy: -17.757508449901596\n",
      "Level: 6, N: 1, L: 2, S: 0\n",
      "Energy: -17.429233705493058\n",
      "Level: 7, N: 1, L: 3, S: 1\n",
      "Energy: -9.231279254081628\n",
      "There are 7 occupied levels!\n"
     ]
    }
   ],
   "metadata": {}
  }
 ],
 "metadata": {
  "kernelspec": {
   "name": "python3",
   "display_name": "Python 3.8.10 64-bit"
  },
  "language_info": {
   "codemirror_mode": {
    "name": "ipython",
    "version": 3
   },
   "file_extension": ".py",
   "mimetype": "text/x-python",
   "name": "python",
   "nbconvert_exporter": "python",
   "pygments_lexer": "ipython3",
   "version": "3.8.10"
  },
  "interpreter": {
   "hash": "916dbcbb3f70747c44a77c7bcd40155683ae19c65e1c03b4aa3499c5328201f1"
  }
 },
 "nbformat": 4,
 "nbformat_minor": 5
}