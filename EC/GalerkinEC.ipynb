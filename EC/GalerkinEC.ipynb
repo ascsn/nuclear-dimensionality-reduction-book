{
 "cells": [
  {
   "cell_type": "code",
   "execution_count": 2,
   "id": "56999d6b",
   "metadata": {},
   "outputs": [],
   "source": [
    "import numpy as np"
   ]
  },
  {
   "cell_type": "markdown",
   "id": "f79cd44f",
   "metadata": {},
   "source": [
    "First, we'll read in the files created by the Fortran HF code. Things are a little messy thanks to the way I stored things in the past, but they are standard numpy arrays after this cell. Take note of the ordering and suggest a more agreeable choice if you've got an opinion."
   ]
  },
  {
   "cell_type": "code",
   "execution_count": 29,
   "id": "1f6166fd",
   "metadata": {},
   "outputs": [
    {
     "name": "stdout",
     "output_type": "stream",
     "text": [
      "nbox =  1000\n",
      "lmax =  8\n",
      "nmax =  28\n",
      "[0.00000000e+00 9.54707517e-03 1.90926686e-02 ... 8.54607256e-13\n",
      " 4.27094564e-13 0.00000000e+00]\n"
     ]
    }
   ],
   "source": [
    "restartfile = '../HF/wf_numpy.bin'\n",
    "\n",
    "intchunk = np.dtype(np.int32).itemsize\n",
    "nbox = np.fromfile(restartfile, dtype=np.int32, count=1, offset=0*intchunk)[0]\n",
    "lmax = np.fromfile(restartfile, dtype=np.int32, count=1, offset=1*intchunk)[0]\n",
    "nmax = np.fromfile(restartfile, dtype=np.int32, count=1, offset=2*intchunk)[0]\n",
    "print(\"nbox = \",nbox)\n",
    "print(\"lmax = \",lmax)\n",
    "print(\"nmax = \",nmax)\n",
    "\n",
    "#sortstates, sortenergies, wfr,\n",
    "\n",
    "sortstates = np.fromfile(restartfile, dtype=np.int32, count=nmax*3*2, offset=3*intchunk).reshape(2,3,nmax)\n",
    "sortenergies = np.fromfile(restartfile, dtype=np.float64, count=nmax*2, offset=(3*intchunk+nmax*3*2*intchunk)).reshape(2,nmax)\n",
    "wf = np.fromfile(restartfile, dtype=np.float64, count=2*2*(lmax+1)*lmax*(nbox+1), offset=(3*intchunk+nmax*3*2*intchunk+sortenergies.nbytes)).reshape(2,2,(lmax+1),lmax,(nbox+1))\n"
   ]
  },
  {
   "cell_type": "code",
   "execution_count": 30,
   "id": "b92fbbe1",
   "metadata": {},
   "outputs": [
    {
     "name": "stdout",
     "output_type": "stream",
     "text": [
      "[[-4.96891695e+01 -3.58909339e+01 -3.38465245e+01 -2.21239597e+01\n",
      "  -1.77217917e+01 -1.74292757e+01 -9.23131336e+00  1.00000000e-25\n",
      "   1.00000000e-25  1.00000000e-25  1.00000000e-25  1.00000000e-25\n",
      "   1.00000000e-25  1.00000000e-25  1.00000000e-25  1.00000000e-25\n",
      "   1.00000000e-25  1.00000000e-25  1.00000000e-25  1.00000000e-25\n",
      "   1.00000000e-25  1.00000000e-25  1.00000000e-25  1.00000000e-25\n",
      "   1.00000000e-25  1.00000000e-25  1.00000000e-25  1.00000000e-25]\n",
      " [-4.58742820e+01 -3.42518267e+01 -3.04309410e+01 -2.24000201e+01\n",
      "  -1.67419159e+01 -1.53126615e+01  1.00000000e-25  1.00000000e-25\n",
      "   1.00000000e-25  1.00000000e-25  1.00000000e-25  1.00000000e-25\n",
      "   1.00000000e-25  1.00000000e-25  1.00000000e-25  1.00000000e-25\n",
      "   1.00000000e-25  1.00000000e-25  1.00000000e-25  1.00000000e-25\n",
      "   1.00000000e-25  1.00000000e-25  1.00000000e-25  1.00000000e-25\n",
      "   1.00000000e-25  1.00000000e-25  1.00000000e-25  1.00000000e-25]]\n"
     ]
    }
   ],
   "source": [
    "print(sortenergies)"
   ]
  }
 ],
 "metadata": {
  "kernelspec": {
   "display_name": "Python 3 (ipykernel)",
   "language": "python",
   "name": "python3"
  },
  "language_info": {
   "codemirror_mode": {
    "name": "ipython",
    "version": 3
   },
   "file_extension": ".py",
   "mimetype": "text/x-python",
   "name": "python",
   "nbconvert_exporter": "python",
   "pygments_lexer": "ipython3",
   "version": "3.9.9"
  }
 },
 "nbformat": 4,
 "nbformat_minor": 5
}
