{
 "cells": [
  {
   "cell_type": "code",
   "execution_count": 2,
   "metadata": {},
   "outputs": [],
   "source": [
    "import numpy as np"
   ]
  },
  {
   "cell_type": "markdown",
   "metadata": {},
   "source": [
    "First, we'll read in the files created by the Fortran HF code. Things are a little messy thanks to the way I stored things in the past, but they are standard numpy arrays after this cell. Take note of the ordering and suggest a more agreeable choice if you've got an opinion."
   ]
  },
  {
   "cell_type": "code",
   "execution_count": 9,
   "metadata": {},
   "outputs": [
    {
     "name": "stdout",
     "output_type": "stream",
     "text": [
      "hbox =  0.01\n",
      "nbox =  2000\n",
      "lmax =  8\n",
      "nmax =  28\n"
     ]
    }
   ],
   "source": [
    "restartfile = '../HF/wf_numpy.bin'\n",
    "\n",
    "intchunk = np.dtype(np.int32).itemsize\n",
    "realchunk = np.dtype(np.float64).itemsize\n",
    "h = np.fromfile(restartfile, dtype=np.float64, count=1, offset=0)[0]\n",
    "nbox = np.fromfile(restartfile, dtype=np.int32, count=1, offset=(realchunk+0*intchunk))[0]\n",
    "lmax = np.fromfile(restartfile, dtype=np.int32, count=1, offset=(realchunk+1*intchunk))[0]\n",
    "nmax = np.fromfile(restartfile, dtype=np.int32, count=1, offset=(realchunk+2*intchunk))[0]\n",
    "print(\"hbox = \", h)\n",
    "print(\"nbox = \",nbox)\n",
    "print(\"lmax = \",lmax)\n",
    "print(\"nmax = \",nmax)\n",
    "\n",
    "#sortstates, sortenergies, wfr,\n",
    "\n",
    "sortstates = np.fromfile(restartfile, dtype=np.int32, count=nmax*3*2, offset=(realchunk+3*intchunk)).reshape(2,3,nmax)\n",
    "sortenergies = np.fromfile(restartfile, dtype=np.float64, count=nmax*2, offset=(realchunk+3*intchunk+nmax*3*2*intchunk)).reshape(2,nmax)\n",
    "wf = np.fromfile(restartfile, dtype=np.float64, count=2*2*(lmax+1)*lmax*(nbox+1), offset=(realchunk+3*intchunk+nmax*3*2*intchunk+sortenergies.nbytes)).reshape(2,2,(lmax+1),lmax,(nbox+1))\n"
   ]
  },
  {
   "cell_type": "code",
   "execution_count": 5,
   "metadata": {},
   "outputs": [
    {
     "name": "stdout",
     "output_type": "stream",
     "text": [
      "&io printwf=F,printdens=F,restartwf=T /\n",
      "&box nbox=1000,h=0.02 /\n",
      "&params r0=1.27,conv=1E-8,hbar22m=20.73553,itermax=200,xmax=0.2 /\n",
      "&nucleus np=20,nn=28,lmax=8 /\n",
      "!&interaction t0= -2483.4500,x0=0.77600,t1=484.2300,x1=-0.31700,t2=-556.6900,x2=-1.0,t3=13757.0,x3=1.2630,w0=125.0,sig=6.0,icoul=1,icm=1,j2terms=.true. / ! SLy5\n",
      "!&interaction t0= -1132.4,x0=0.0,t1=0.0,x1=0.0,t2=0.0,x2=0.0,t3=23610.40,x3=0.0,w0=0.0,sig=1.0,icoul=1,icm=1,j2terms=.false. / !tot3\n",
      "!&interaction t0= -1128.75,x0=0.0,t1=395.0,x1=0.0,t2=-95.0,x2=-0.0,t3=14000.0,x3=1.0,w0=120.0,sig=1.0,icoul=1,icm=1,j2terms=.false. / ! SIII\n",
      "!&interaction t0= -2488.913,x0=0.834,t1=486.818,x1=-0.344,t2=-546.395,x2=-1.0,t3=13777.0,x3=1.354,w0=123.0,sig=6.0,icoul=1,icm=1,j2terms=.false. /!\n",
      "\n",
      "&interaction t0= 2.0,x0=0.77600,t1=484.2300,x1=-0.31700,t2=-556.6900,x2=-1.0,t3=13757.0,x3=1.2630,w0=125.0,sig=6.0,icoul=1,icm=1,j2terms=.true.\n"
     ]
    },
    {
     "ename": "NameError",
     "evalue": "name 'nmax' is not defined",
     "output_type": "error",
     "traceback": [
      "\u001b[0;31m---------------------------------------------------------------------------\u001b[0m",
      "\u001b[0;31mNameError\u001b[0m                                 Traceback (most recent call last)",
      "\u001b[0;32m<ipython-input-5-c177f92318dd>\u001b[0m in \u001b[0;36m<module>\u001b[0;34m\u001b[0m\n\u001b[1;32m     13\u001b[0m \u001b[0mmake_input\u001b[0m\u001b[0;34m(\u001b[0m\u001b[0;34m[\u001b[0m\u001b[0;36m2.0\u001b[0m\u001b[0;34m]\u001b[0m\u001b[0;34m)\u001b[0m\u001b[0;34m\u001b[0m\u001b[0;34m\u001b[0m\u001b[0m\n\u001b[1;32m     14\u001b[0m \u001b[0mnpart\u001b[0m \u001b[0;34m=\u001b[0m \u001b[0;36m0\u001b[0m\u001b[0;34m\u001b[0m\u001b[0;34m\u001b[0m\u001b[0m\n\u001b[0;32m---> 15\u001b[0;31m \u001b[0;32mfor\u001b[0m \u001b[0mi\u001b[0m \u001b[0;32min\u001b[0m \u001b[0mrange\u001b[0m\u001b[0;34m(\u001b[0m\u001b[0mnmax\u001b[0m\u001b[0;34m)\u001b[0m\u001b[0;34m:\u001b[0m\u001b[0;34m\u001b[0m\u001b[0;34m\u001b[0m\u001b[0m\n\u001b[0m\u001b[1;32m     16\u001b[0m     \u001b[0;32mif\u001b[0m\u001b[0;34m(\u001b[0m\u001b[0msortstates\u001b[0m\u001b[0;34m[\u001b[0m\u001b[0;36m0\u001b[0m\u001b[0;34m,\u001b[0m\u001b[0;36m0\u001b[0m\u001b[0;34m,\u001b[0m\u001b[0mi\u001b[0m\u001b[0;34m]\u001b[0m\u001b[0;34m>\u001b[0m\u001b[0;36m0\u001b[0m\u001b[0;34m)\u001b[0m\u001b[0;34m:\u001b[0m\u001b[0;34m\u001b[0m\u001b[0;34m\u001b[0m\u001b[0m\n\u001b[1;32m     17\u001b[0m         \u001b[0mnfill\u001b[0m \u001b[0;34m=\u001b[0m \u001b[0mint\u001b[0m\u001b[0;34m(\u001b[0m\u001b[0;36m2\u001b[0m\u001b[0;34m*\u001b[0m\u001b[0;34m(\u001b[0m\u001b[0msortstates\u001b[0m\u001b[0;34m[\u001b[0m\u001b[0;36m0\u001b[0m\u001b[0;34m,\u001b[0m\u001b[0;36m1\u001b[0m\u001b[0;34m,\u001b[0m\u001b[0mi\u001b[0m\u001b[0;34m]\u001b[0m\u001b[0;34m+\u001b[0m\u001b[0mspin\u001b[0m\u001b[0;34m(\u001b[0m\u001b[0msortstates\u001b[0m\u001b[0;34m[\u001b[0m\u001b[0;36m0\u001b[0m\u001b[0;34m,\u001b[0m\u001b[0;36m2\u001b[0m\u001b[0;34m,\u001b[0m\u001b[0mi\u001b[0m\u001b[0;34m]\u001b[0m\u001b[0;34m)\u001b[0m\u001b[0;34m)\u001b[0m \u001b[0;34m+\u001b[0m \u001b[0;36m1\u001b[0m\u001b[0;34m)\u001b[0m\u001b[0;34m\u001b[0m\u001b[0;34m\u001b[0m\u001b[0m\n",
      "\u001b[0;31mNameError\u001b[0m: name 'nmax' is not defined"
     ]
    }
   ],
   "source": [
    "def spin(spin):\n",
    "    if(spin==1): return -0.5\n",
    "    return 0.5\n",
    "\n",
    "def make_input(params):\n",
    "    in_template = \"../HF/in.template\"\n",
    "    f1 = open(in_template, 'r')\n",
    "    \n",
    "    print(f1.read())\n",
    "    int_string = \"&interaction t0= \"+str(params[0])+\",x0=0.77600,t1=484.2300,x1=-0.31700,t2=-556.6900,x2=-1.0,t3=13757.0,x3=1.2630,w0=125.0,sig=6.0,icoul=1,icm=1,j2terms=.true.\"\n",
    "    print(int_string)\n",
    "\n",
    "make_input([2.0])\n",
    "npart = 0\n",
    "for i in range(nmax):\n",
    "    if(sortstates[0,0,i]>0):\n",
    "        nfill = int(2*(sortstates[0,1,i]+spin(sortstates[0,2,i])) + 1)\n",
    "        if (sortstates[0,1,i] == 0): nfill = 2\n",
    "        npart += nfill\n",
    "        print(npart)\n"
   ]
  }
 ],
 "metadata": {
  "kernelspec": {
   "display_name": "Python 3",
   "language": "python",
   "name": "python3"
  },
  "language_info": {
   "codemirror_mode": {
    "name": "ipython",
    "version": 3
   },
   "file_extension": ".py",
   "mimetype": "text/x-python",
   "name": "python",
   "nbconvert_exporter": "python",
   "pygments_lexer": "ipython3",
   "version": "3.8.10"
  }
 },
 "nbformat": 4,
 "nbformat_minor": 5
}
