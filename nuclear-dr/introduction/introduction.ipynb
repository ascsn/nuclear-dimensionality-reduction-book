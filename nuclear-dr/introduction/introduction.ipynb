{
 "cells": [
  {
   "cell_type": "markdown",
   "id": "fe3da545",
   "metadata": {},
   "source": [
    "# Introduction\n",
    "\n",
    "Contributed by: Pablo Giuliani, Edgard Bonilla, Kyle Godbey.\n",
    "\n",
    "As scientists, we are usually trying to find the important degrees of freedom of the system we want to study. If we consider too few, our theories and models become too simple and can’t describe what we see in nature. If we include too many, then our calculations become an ever-growing computational burden. Finding the right degrees of freedom to consider has usually been more of an art than a science, and it is a feature that many successful models have shared over the centuries. Dimensionality reduction techniques -a series of novel approaches mostly developed in the last decades thanks to the increase in computational power- have transformed many areas of science by allowing us to find the degrees of freedom that are “just right”.\n",
    "\n",
    "We start this Jupyter book by giving an overview of one such technique called the Reduced Basis Method (RBM), which comes under the umbrella of Reduced Order Models. The RBM was introduced [more than 40 years ago](https://arc.aiaa.org/doi/10.2514/3.7539) and, since then, it has been constantly improved and developed, especially during the last two decades. There are several aricles and books that can serve as good resources on the subject, but unfortunately this literature can be a challenging first step for those without a strong background on the formal and abstract mathematical treatment of differential equations. Concepts such as the weak formulation of differential equations, the Kolmogorov n-width, and the coercitivity and continuity constants, to name a few, usually form central parts of many of those discussions. \n",
    "We decided to build this resource in such a way that it can be useful as a first introduction to the subject for an audience from a broad physics background (perhaps leaning a bit towards nuclear physics), ranging from undergraduate and graduate students to mature researchers, who want to use these tools to speed up their computational models and calculations. To that goal, we:\n",
    "- Favor descriptions in form of concrete concepts while pointing the connections with the formal more abstract treatments in the RBM literature for those who want to pursue that route further.\n",
    "- Make extensive use of Dirac’s bra-ket notation common in quantum mechanics and familiar to the physics community.\n",
    "- Accompany the explanations with code examples mostly written in Python so you can play with them.\n",
    "\n",
    "We hope you will have fun and enjoy reading about these topics and implementing them to support amazing scientific discoveries. This Jupyter book is an ongoing work in progress, so make sure to check every now and then for new updates. \n",
    "You can also email us at: godbey@frib.msu.edu if you have any suggestions (or discover a bug).\n",
    "\n",
    "You can join the [Advanced Computation and Statistics Network](https://forum.ascsn.net/) to participate in discussions about dimensionality reduction techniques, machine learning, Bayesian statistcics, and more with other eager researchers. \n",
    "\n",
    "<div style=\"text-align: right\"> Galerkin Team </div>\n",
    "\n",
    "Many other wonderful resources and literature:\n",
    "\n",
    "- Data Driven Science & Engineering [book](http://databookuw.com/databook.pdf) and [videos](http://databookuw.com/page-2/page-4/), by S. L. Brunton and J. N. Kutz.\n",
    "- [Reduced Basis Methods for Partial Differential Equations An Introduction](https://link.springer.com/book/10.1007/978-3-319-15431-2) by A. Quarteroni, A. Manzoni, and F. Negri.\n",
    "- [Certified Reduced Basis Methods for Parametrized Partial Differential Equations](https://link.springer.com/book/10.1007/978-3-319-22470-1) by J. S. Hesthaven, G. Rozza, and B. Stamm.\n",
    "- [A Survey of Projection-Based Model Reduction Methods for Parametric Dynamical Systems](https://epubs.siam.org/doi/abs/10.1137/130932715?casa_token=KjGzJtK-9XsAAAAA:HQka15pY0tyAMzVcHCInAhwm9crsZ_9FqvHHK6LH3TYGSfZ5JyKyoIxttMLIZoxPhwQM27E) by P. Benner, S. Gugercin, and K Willcox.\n",
    "- [Model reduction methods for nuclear emulators](https://iopscience.iop.org/article/10.1088/1361-6471/ac83dd) by J. Melendez, C. Drischler, R. J. Furnstahl, A. J. Garcia, and X. Zhang (New developments coming soon from J. Melendez and friends!).\n",
    "\n",
    "\n",
    "Articles by the Galerkin team:\n",
    "\n",
    "-[Training and Projecting: A Reduced Basis Method Emulator for Many-Body Physics](https://arxiv.org/abs/2203.05284v2) by E. Bonilla, P. Giuliani, K. Godbey, and D. Lee.\n",
    "\n",
    "-[Bayes goes fast: Uncertainty Quantification for a Covariant Energy Density Functional emulated by the Reduced Basis Method](https://arxiv.org/abs/2209.13039) by P. Giuliani, K. Godbey, E. Bonilla, F. Viens, and J. Piekarewicz.\n",
    "\n"
   ]
  },
  {
   "cell_type": "code",
   "execution_count": null,
   "id": "498a461c",
   "metadata": {},
   "outputs": [],
   "source": []
  }
 ],
 "metadata": {
  "kernelspec": {
   "display_name": "Python 3 (ipykernel)",
   "language": "python",
   "name": "python3"
  },
  "language_info": {
   "codemirror_mode": {
    "name": "ipython",
    "version": 3
   },
   "file_extension": ".py",
   "mimetype": "text/x-python",
   "name": "python",
   "nbconvert_exporter": "python",
   "pygments_lexer": "ipython3",
   "version": "3.9.12"
  }
 },
 "nbformat": 4,
 "nbformat_minor": 5
}
